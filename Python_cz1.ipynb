{
  "nbformat": 4,
  "nbformat_minor": 0,
  "metadata": {
    "celltoolbar": "Slideshow",
    "kernelspec": {
      "display_name": "da_vinci",
      "language": "python",
      "name": "da_vinci"
    },
    "language_info": {
      "codemirror_mode": {
        "name": "ipython",
        "version": 3
      },
      "file_extension": ".py",
      "mimetype": "text/x-python",
      "name": "python",
      "nbconvert_exporter": "python",
      "pygments_lexer": "ipython3",
      "version": "3.6.8"
    },
    "colab": {
      "name": "Python_cz1.ipynb",
      "provenance": [],
      "collapsed_sections": [
        "2oPzX8UqVXBg",
        "fmKnZD8BVXBr",
        "kpEjGTLPVXB3",
        "uWCXMGV8VXB5",
        "3d5Z-zriVXB9",
        "bpxuHoKGVXCA",
        "ttRj_IDqVXCB",
        "3uwWb4wJVXCH",
        "iR022Pc0VXCK",
        "bpXGLp67VXCP",
        "UBylMi-lVXCS",
        "c0VmTqt3VXCW",
        "2K8zkFAjVXCc"
      ]
    }
  },
  "cells": [
    {
      "cell_type": "markdown",
      "metadata": {
        "id": "2oPzX8UqVXBg"
      },
      "source": [
        "# Python w analizie ekonomicznej - poziom zaawansowany, warsztaty\n",
        "## Temat: Python przypomnienie zagadnień, elementy zaawansowane języka \n"
      ]
    },
    {
      "cell_type": "markdown",
      "metadata": {
        "id": "Y7SUfQOVVXBn"
      },
      "source": [
        "Plan przedmiotu\n",
        "\n",
        "    * Python przypomnienie, elementy programowania funkcyjnego\n",
        "    * Python interfejs konsolowy\n",
        "    * API bazy danych w pythonie\n",
        "    * Korzystanie z API webowych/wprowadzenie do Flask\n",
        "    * Korzystanie z bazy danych we Flasku\n",
        "    * Flask templates\n",
        "    * Flask REST API\n",
        "    * Pandas - wczytywanie danych, operacje na dużych zbiorach danych\n",
        "    * PySpark\n",
        "    \n"
      ]
    },
    {
      "cell_type": "markdown",
      "metadata": {
        "id": "zLXvjnNSVXBq"
      },
      "source": [
        "# Python - przypomnienie\n",
        "\n",
        "Agenda:\n",
        "    * Struktury danych\n",
        "    * `Flow control`\n",
        "    * Comprehensions\n",
        "    \n",
        "w drugiej części python - elementy zaawansowane."
      ]
    },
    {
      "cell_type": "markdown",
      "metadata": {
        "id": "fmKnZD8BVXBr"
      },
      "source": [
        "# Struktury danych\n",
        "\n",
        "## Listy"
      ]
    },
    {
      "cell_type": "code",
      "metadata": {
        "id": "wVGd2gjlVXBs",
        "outputId": "23d122aa-3d7e-4957-ebf7-e4c84b56cd5f"
      },
      "source": [
        "a = [1, 2, 'a', 'b']\n",
        "print('Czy 3 jest w liście', 3 in a)\n",
        "\n",
        "print(\"# dodawanie elementów insert, append\")\n",
        "a.insert(2, 'środek')\n",
        "print(a)\n",
        "\n",
        "print('# dodanie elementu na koniec listy')\n",
        "a.append('koniec')\n",
        "print(a)"
      ],
      "execution_count": null,
      "outputs": [
        {
          "output_type": "stream",
          "text": [
            "Czy 3 jest w liście False\n",
            "# dodawanie elementów insert, append\n",
            "[1, 2, 'środek', 'a', 'b']\n",
            "# dodanie elementu na koniec listy\n",
            "[1, 2, 'środek', 'a', 'b', 'koniec']\n"
          ],
          "name": "stdout"
        }
      ]
    },
    {
      "cell_type": "code",
      "metadata": {
        "id": "SDwrxpBrVXBw",
        "outputId": "8ee24e77-e242-4587-d995-00a893ceccda"
      },
      "source": [
        "print('# usuwanie elementów del, pop')\n",
        "del a[0]\n",
        "print(a)\n",
        "\n",
        "ostatni_element = a.pop()\n",
        "print(f'Ostatni element `{ostatni_element}` pobrany z listy {a}')\n",
        "\n",
        "print('usuwamy dwa pierwsze elementy')\n",
        "del a[:2]\n",
        "print(a)"
      ],
      "execution_count": null,
      "outputs": [
        {
          "output_type": "stream",
          "text": [
            "# usuwanie elementów del, pop\n",
            "[2, 'środek', 'a', 'b', 'koniec']\n",
            "Ostatni element `koniec` pobrany z listy [2, 'środek', 'a', 'b']\n",
            "usuwamy dwa pierwsze elementy\n",
            "['a', 'b']\n"
          ],
          "name": "stdout"
        }
      ]
    },
    {
      "cell_type": "markdown",
      "metadata": {
        "id": "XRR8RN17VXBx"
      },
      "source": [
        "Kopiowanie tablic"
      ]
    },
    {
      "cell_type": "code",
      "metadata": {
        "id": "MrqIfCBBVXBy"
      },
      "source": [
        "a = [1, 2, 'a', 'b']\n",
        "b = a\n",
        "\n",
        "del a[0] # co będzie w b?"
      ],
      "execution_count": null,
      "outputs": []
    },
    {
      "cell_type": "code",
      "metadata": {
        "id": "WsljC2wGVXBz",
        "outputId": "d2af1a68-8f3c-479c-b0e4-751ae22ab2d1"
      },
      "source": [
        "# w b zostanie również usunięty pierwszy element\n",
        "# lista b wskazuje na listę a dlatego po zmianie/usunięciu\n",
        "# jakiegokolwiek elementu w liście a\n",
        "# zmienia się lista b\n",
        "\n",
        "print(f'b:\\t{b}\\na:\\t{a}')"
      ],
      "execution_count": null,
      "outputs": [
        {
          "output_type": "stream",
          "text": [
            "b:\t[2, 'a', 'b']\n",
            "a:\t[2, 'a', 'b']\n"
          ],
          "name": "stdout"
        }
      ]
    },
    {
      "cell_type": "code",
      "metadata": {
        "id": "irU5c-ptVXB0",
        "outputId": "4f010770-bda3-4bf3-c13f-6b1a039464d4"
      },
      "source": [
        "# usunięcie w `a` ale nie w `b`\n",
        "# musimy wykonać kopię obiektu - kopię listy a\n",
        "a = [1, 2, 'a', 'b']\n",
        "b = a.copy()\n",
        "\n",
        "del a[0]\n",
        "print(f'b:\\t{b}\\na:\\t{a}')"
      ],
      "execution_count": null,
      "outputs": [
        {
          "output_type": "stream",
          "text": [
            "b:\t[1, 2, 'a', 'b']\n",
            "a:\t[2, 'a', 'b']\n"
          ],
          "name": "stdout"
        }
      ]
    },
    {
      "cell_type": "markdown",
      "metadata": {
        "id": "3yAtBNinVXB1"
      },
      "source": [
        "\"Rozpakowywanie\" list - głównie używane do 'odbierania' elementów z funkcji oraz przekazywania argumentów do funkcji (będzie o tym później)."
      ]
    },
    {
      "cell_type": "code",
      "metadata": {
        "id": "IfpDhyVmVXB1",
        "outputId": "8ca9a8ce-821b-497d-83b6-31d25f3caba7"
      },
      "source": [
        "some_list = ['a', 'b', 'c', 'd', 'e']\n",
        "def jakas_funkcja():\n",
        "    return (1, 2)\n",
        "\n",
        "# rozpakowywanie wyników funkcji\n",
        "first, last = jakas_funkcja()\n",
        "print(f'pierwszy element: {first}, drugi element {last}')\n",
        "\n",
        "# 'przepisanie' jej elementów na nowe\n",
        "# możemy to zrobić za pomocą 'cięcia' (slice) listy w taki sposób\n",
        "(first, second, rest) = some_list[0], some_list[1:-1], some_list[-1]\n",
        "(first, second, rest)\n",
        "# ma ktoś pomysł jak wykonać tę samą operację za pomocą rozpakowywania (z użyciem *) ?"
      ],
      "execution_count": null,
      "outputs": [
        {
          "output_type": "execute_result",
          "data": {
            "text/plain": [
              "('a', ['b', 'c', 'd'], 'e')"
            ]
          },
          "metadata": {
            "tags": []
          },
          "execution_count": 586
        }
      ]
    },
    {
      "cell_type": "code",
      "metadata": {
        "id": "gsBn3zH-VXB2",
        "outputId": "e3204612-e15f-46e0-cea6-7773e1357c2d"
      },
      "source": [
        "# a znacznie lepiej wygląda to w taki sposób\n",
        "(first, *middle, rest) = some_list\n",
        "(first, second, rest)"
      ],
      "execution_count": null,
      "outputs": [
        {
          "output_type": "execute_result",
          "data": {
            "text/plain": [
              "('a', ['b', 'c', 'd'], 'e')"
            ]
          },
          "metadata": {
            "tags": []
          },
          "execution_count": 587
        }
      ]
    },
    {
      "cell_type": "markdown",
      "metadata": {
        "id": "kpEjGTLPVXB3"
      },
      "source": [
        "## Tuple\n",
        "\n",
        "Uporządkowana, niemutowalna kolekcja.\n",
        "\n",
        "Jaka są różnice między tuplą a listą?"
      ]
    },
    {
      "cell_type": "code",
      "metadata": {
        "id": "wqbTx_28VXB4",
        "outputId": "176ee874-3d31-401d-f361-55e3343823bc"
      },
      "source": [
        "fruits = (\"apple\", \"banana\", \"cherry\")\n",
        "print(fruits[:2])"
      ],
      "execution_count": null,
      "outputs": [
        {
          "output_type": "stream",
          "text": [
            "('apple', 'banana')\n"
          ],
          "name": "stdout"
        }
      ]
    },
    {
      "cell_type": "code",
      "metadata": {
        "id": "anKz3JGvVXB4",
        "outputId": "c0aa04aa-f12a-4d3e-a619-121acebd7074"
      },
      "source": [
        "# Jeżeli stworzymy tuple, nie możemy zmieniać wartości jej elementów\n",
        "fruits[0] = 'tomato'"
      ],
      "execution_count": null,
      "outputs": [
        {
          "output_type": "error",
          "ename": "TypeError",
          "evalue": "'tuple' object does not support item assignment",
          "traceback": [
            "\u001b[0;31m---------------------------------------------------------------------------\u001b[0m",
            "\u001b[0;31mTypeError\u001b[0m                                 Traceback (most recent call last)",
            "\u001b[0;32m<ipython-input-8-a0c44b6389b1>\u001b[0m in \u001b[0;36m<module>\u001b[0;34m\u001b[0m\n\u001b[1;32m      1\u001b[0m \u001b[0;31m# Jeżeli stworzymy tuple, nie możemy zmieniać wartości jej elementów\u001b[0m\u001b[0;34m\u001b[0m\u001b[0;34m\u001b[0m\u001b[0;34m\u001b[0m\u001b[0m\n\u001b[0;32m----> 2\u001b[0;31m \u001b[0mfruits\u001b[0m\u001b[0;34m[\u001b[0m\u001b[0;36m0\u001b[0m\u001b[0;34m]\u001b[0m \u001b[0;34m=\u001b[0m \u001b[0;34m'tomato'\u001b[0m\u001b[0;34m\u001b[0m\u001b[0;34m\u001b[0m\u001b[0m\n\u001b[0m",
            "\u001b[0;31mTypeError\u001b[0m: 'tuple' object does not support item assignment"
          ]
        }
      ]
    },
    {
      "cell_type": "code",
      "metadata": {
        "id": "xWO_RPkTVXB5"
      },
      "source": [
        "# ani nie możemy zmieniać jej długości - nie ma metod append, add ani delete,\n",
        "# czy remove."
      ],
      "execution_count": null,
      "outputs": []
    },
    {
      "cell_type": "markdown",
      "metadata": {
        "id": "uWCXMGV8VXB5"
      },
      "source": [
        "## Zbiory"
      ]
    },
    {
      "cell_type": "code",
      "metadata": {
        "id": "peE9xKN9VXB6",
        "outputId": "0ea7e653-bf67-4449-c8da-8c303b032892"
      },
      "source": [
        "uczniowie = ['jan', 'maria', 'jan', 'andrzej', 'kornwalia']\n",
        "uczniowie = set(uczniowie)\n",
        "print(f'# nasi uczniowie {uczniowie}')\n",
        "\n",
        "print(f\"# czy `jan` jest w zbiorze uczniów? {'tak' if 'jan' in uczniowie else 'nie'}\")"
      ],
      "execution_count": null,
      "outputs": [
        {
          "output_type": "stream",
          "text": [
            "# nasi uczniowie {'andrzej', 'jan', 'kornwalia', 'maria'}\n",
            "# czy `jan` jest w zbiorze uczniów? tak\n"
          ],
          "name": "stdout"
        }
      ]
    },
    {
      "cell_type": "code",
      "metadata": {
        "id": "460tvqcYVXB6",
        "outputId": "88f82e35-756a-4c0a-b25e-6ab6c399b637"
      },
      "source": [
        "# bardzo przydatna własność zbiorów - nie przechowuje duplikatów\n",
        "uczniowie = set()\n",
        "uczniowie.add('jan')\n",
        "uczniowie.add('jan')\n",
        "uczniowie.add('andrzej')\n",
        "uczniowie"
      ],
      "execution_count": null,
      "outputs": [
        {
          "output_type": "execute_result",
          "data": {
            "text/plain": [
              "{'andrzej', 'jan'}"
            ]
          },
          "metadata": {
            "tags": []
          },
          "execution_count": 12
        }
      ]
    },
    {
      "cell_type": "markdown",
      "metadata": {
        "id": "1dQ2wXpIVXB7"
      },
      "source": [
        "Operacje na zbiorach - na zbiorach pythonowych możemy wykonywać te same operacje co na zbiorach matematycznych."
      ]
    },
    {
      "cell_type": "code",
      "metadata": {
        "id": "Th6FS1UdVXB7",
        "outputId": "40bb1658-4f6d-4d10-e346-80d6c878d6bb"
      },
      "source": [
        "nauczyciele = set(['joanna', 'jan', 'zbyszek'])\n",
        "\n",
        "print('# operacje na zbiorach')\n",
        "print('suma', uczniowie.union(nauczyciele))\n",
        "print('przecięcie', uczniowie.intersection(nauczyciele))\n",
        "print('różnica', uczniowie.difference(nauczyciele))\n",
        "print('różnica symetryczna', uczniowie.symmetric_difference(nauczyciele))"
      ],
      "execution_count": null,
      "outputs": [
        {
          "output_type": "stream",
          "text": [
            "# operacje na zbiorach\n",
            "suma {'zbyszek', 'andrzej', 'joanna', 'jan'}\n",
            "przecięcie {'jan'}\n",
            "różnica {'andrzej'}\n",
            "różnica symetryczna {'joanna', 'andrzej', 'zbyszek'}\n"
          ],
          "name": "stdout"
        }
      ]
    },
    {
      "cell_type": "code",
      "metadata": {
        "id": "pkthkFbuVXB8",
        "outputId": "3d3a3d08-4a73-4269-842a-daf2a9db9f82"
      },
      "source": [
        "# to samo za pomocą symboli\n",
        "print('suma', uczniowie | nauczyciele) # nie `+` !\n",
        "print('przecięcie', uczniowie & nauczyciele)\n",
        "print('różnica', uczniowie - nauczyciele)\n",
        "print('różnica symetryczna', uczniowie ^ nauczyciele)"
      ],
      "execution_count": null,
      "outputs": [
        {
          "output_type": "stream",
          "text": [
            "suma {'zbyszek', 'andrzej', 'joanna', 'jan'}\n",
            "przecięcie {'jan'}\n",
            "różnica {'andrzej'}\n",
            "różnica symetryczna {'joanna', 'andrzej', 'zbyszek'}\n"
          ],
          "name": "stdout"
        }
      ]
    },
    {
      "cell_type": "markdown",
      "metadata": {
        "id": "3d5Z-zriVXB9"
      },
      "source": [
        "## Słowniki\n",
        "To kolekcje przechowujące dane w postaci klucz:wartość."
      ]
    },
    {
      "cell_type": "code",
      "metadata": {
        "id": "i_emL8LQVXB9",
        "outputId": "16ae16a4-c2d6-45f8-bd7a-f95cbe14e92b"
      },
      "source": [
        "kolory = { \n",
        "    'biały': (255, 255, 255),\n",
        "    'czarny': (0, 0, 0)\n",
        "}\n",
        "\n",
        "kolory['czerwony'] = (255, 0, 0)\n",
        "print('#jakie mamy kolor?', kolory)\n",
        "\n",
        "kolory = dict(biały=(255, 255, 255), czarny = (0, 0, 0))\n",
        "print('#jakie mamy kolor?', kolory)\n",
        "\n",
        "print('# albo inaczej...')\n",
        "for kolor in kolory:\n",
        "    print(f'Kolor `{kolor}` ma wartość {kolory[kolor]}')"
      ],
      "execution_count": null,
      "outputs": [
        {
          "output_type": "stream",
          "text": [
            "#jakie mamy kolor? {'biały': (255, 255, 255), 'czarny': (0, 0, 0), 'czerwony': (255, 0, 0)}\n",
            "#jakie mamy kolor? {'biały': (255, 255, 255), 'czarny': (0, 0, 0)}\n",
            "# albo inaczej...\n",
            "Kolor `biały` ma wartość (255, 255, 255)\n",
            "Kolor `czarny` ma wartość (0, 0, 0)\n"
          ],
          "name": "stdout"
        }
      ]
    },
    {
      "cell_type": "markdown",
      "metadata": {
        "id": "7VntEcm2VXB-"
      },
      "source": [
        "Wyciąganie wartości"
      ]
    },
    {
      "cell_type": "code",
      "metadata": {
        "id": "4crD66rYVXB-",
        "outputId": "699d8b0b-63f2-49cc-ff8f-dcb640fe34d6"
      },
      "source": [
        "kolory\n",
        "kolor = input('Podaj kolor do sprawdzenia: ')"
      ],
      "execution_count": null,
      "outputs": [
        {
          "output_type": "stream",
          "text": [
            "Podaj kolor do sprawdzenia: różowy\n"
          ],
          "name": "stdout"
        }
      ]
    },
    {
      "cell_type": "code",
      "metadata": {
        "id": "i00sNWEYVXB_",
        "outputId": "1e79f669-ca1c-4b68-c1bc-3dbb77d6f3eb"
      },
      "source": [
        "# niebezpieczna wersja - należy używać, gdy jesteśmy pewni, że słownik posiada dany klucz\n",
        "jakiś_kolor_rgb = kolory[kolor]\n",
        "print(f'wartość rgb dla koloru `{kolor}` to {jakiś_kolor_rgb}')"
      ],
      "execution_count": null,
      "outputs": [
        {
          "output_type": "error",
          "ename": "KeyError",
          "evalue": "'różowy'",
          "traceback": [
            "\u001b[0;31m---------------------------------------------------------------------------\u001b[0m",
            "\u001b[0;31mKeyError\u001b[0m                                  Traceback (most recent call last)",
            "\u001b[0;32m<ipython-input-25-5a2c74878dfa>\u001b[0m in \u001b[0;36m<module>\u001b[0;34m\u001b[0m\n\u001b[1;32m      1\u001b[0m \u001b[0;31m# niebezpieczna wersja - należy używać, gdy jesteśmy pewni, że słownik posiada dany klucz\u001b[0m\u001b[0;34m\u001b[0m\u001b[0;34m\u001b[0m\u001b[0;34m\u001b[0m\u001b[0m\n\u001b[0;32m----> 2\u001b[0;31m \u001b[0mjakiś_kolor_rgb\u001b[0m \u001b[0;34m=\u001b[0m \u001b[0mkolory\u001b[0m\u001b[0;34m[\u001b[0m\u001b[0mkolor\u001b[0m\u001b[0;34m]\u001b[0m\u001b[0;34m\u001b[0m\u001b[0;34m\u001b[0m\u001b[0m\n\u001b[0m\u001b[1;32m      3\u001b[0m \u001b[0mprint\u001b[0m\u001b[0;34m(\u001b[0m\u001b[0;34mf'wartość rgb dla koloru `{kolor}` to {jakiś_kolor_rgb}'\u001b[0m\u001b[0;34m)\u001b[0m\u001b[0;34m\u001b[0m\u001b[0;34m\u001b[0m\u001b[0m\n",
            "\u001b[0;31mKeyError\u001b[0m: 'różowy'"
          ]
        }
      ]
    },
    {
      "cell_type": "code",
      "metadata": {
        "id": "zgREa0jrVXCA",
        "outputId": "d092e868-d604-4e4a-9707-2d48476790b3"
      },
      "source": [
        "jakiś_kolor_rgb = kolory.get(kolor, None)\n",
        "print(f'wartość rgb dla koloru `{kolor}` to {jakiś_kolor_rgb}')"
      ],
      "execution_count": null,
      "outputs": [
        {
          "output_type": "stream",
          "text": [
            "wartość rgb dla koloru `różowy` to None\n"
          ],
          "name": "stdout"
        }
      ]
    },
    {
      "cell_type": "markdown",
      "metadata": {
        "id": "bpxuHoKGVXCA"
      },
      "source": [
        "## Counter\n",
        "Słownik podliczający wystąpienia."
      ]
    },
    {
      "cell_type": "code",
      "metadata": {
        "id": "gSTBj6BcVXCA",
        "outputId": "cade09cf-14aa-48be-d05c-74f7ac251324"
      },
      "source": [
        "from collections import Counter\n",
        "# lista z 20 janami, 10 mariami,...\n",
        "uczniowie = ['jan', 'maria', 'jan', 'andrzej', 'kornwalia']*10\n",
        "uczniowie_wystapienia = Counter(uczniowie)\n",
        "\n",
        "uczniowie_wystapienia\n",
        "\n",
        "print('# wypisanie wysątpień wszystkich studentów')\n",
        "for uczen in uczniowie_wystapienia:\n",
        "    print(f'Imię: `{uczen}` pojawił się {uczniowie_wystapienia[uczen]} razy')"
      ],
      "execution_count": null,
      "outputs": [
        {
          "output_type": "stream",
          "text": [
            "# wypisanie wysątpień wszystkich studentów\n",
            "Imię: `jan` pojawił się 20 razy\n",
            "Imię: `maria` pojawił się 10 razy\n",
            "Imię: `andrzej` pojawił się 10 razy\n",
            "Imię: `kornwalia` pojawił się 10 razy\n"
          ],
          "name": "stdout"
        }
      ]
    },
    {
      "cell_type": "markdown",
      "metadata": {
        "id": "ttRj_IDqVXCB"
      },
      "source": [
        "## Stringi"
      ]
    },
    {
      "cell_type": "code",
      "metadata": {
        "id": "Eq7a4LXBVXCC",
        "outputId": "f08f224e-6bcd-4e75-d95b-2328886e672d"
      },
      "source": [
        "# różne sposoby łączenia stringów i ich porównanie\n",
        "pewien_tekst = 'Ala ma'\n",
        "zwierzę = 'kota'\n",
        "\n",
        "print(\n",
        "    pewien_tekst + ' ' + zwierzę,\n",
        "    '{} {}'.format(pewien_tekst, zwierzę),\n",
        "    ' '.join([pewien_tekst, zwierzę]),\n",
        "    f'{pewien_tekst} {zwierzę}',\n",
        "sep='\\n')\n",
        "\n",
        "%timeit -n 1000 pewien_tekst + ' ' + zwierzę\n",
        "%timeit -n 1000 '{} {}'.format(pewien_tekst, zwierzę)\n",
        "%timeit -n 1000 ' '.join([pewien_tekst, zwierzę])\n",
        "%timeit -n 1000 f'{pewien_tekst} {zwierzę}'"
      ],
      "execution_count": null,
      "outputs": [
        {
          "output_type": "stream",
          "text": [
            "Ala ma kota\n",
            "Ala ma kota\n",
            "Ala ma kota\n",
            "Ala ma kota\n",
            "93.3 ns ± 0.324 ns per loop (mean ± std. dev. of 7 runs, 1000 loops each)\n",
            "187 ns ± 17.4 ns per loop (mean ± std. dev. of 7 runs, 1000 loops each)\n",
            "110 ns ± 4.1 ns per loop (mean ± std. dev. of 7 runs, 1000 loops each)\n",
            "82.7 ns ± 9.37 ns per loop (mean ± std. dev. of 7 runs, 1000 loops each)\n"
          ],
          "name": "stdout"
        }
      ]
    },
    {
      "cell_type": "code",
      "metadata": {
        "id": "7MyQyEENVXCC",
        "outputId": "18d7f41e-5568-43aa-da4c-b77870fd1ded"
      },
      "source": [
        "# dlaczego używanie znaku '+' nie jest najlepszym sposobem na łączenie stringów\n",
        "pewien_tekst = \"Ania mierzy\"\n",
        "wzrost = 164.5\n",
        "print(pewien_tekst + ' ' + wzrost + 'cm') # ' '.join([pewien_tekst, wiek]) też error"
      ],
      "execution_count": null,
      "outputs": [
        {
          "output_type": "error",
          "ename": "TypeError",
          "evalue": "must be str, not float",
          "traceback": [
            "\u001b[0;31m---------------------------------------------------------------------------\u001b[0m",
            "\u001b[0;31mTypeError\u001b[0m                                 Traceback (most recent call last)",
            "\u001b[0;32m<ipython-input-29-bac68a14e4d1>\u001b[0m in \u001b[0;36m<module>\u001b[0;34m\u001b[0m\n\u001b[1;32m      2\u001b[0m \u001b[0mpewien_tekst\u001b[0m \u001b[0;34m=\u001b[0m \u001b[0;34m\"Ania mierzy\"\u001b[0m\u001b[0;34m\u001b[0m\u001b[0;34m\u001b[0m\u001b[0m\n\u001b[1;32m      3\u001b[0m \u001b[0mwzrost\u001b[0m \u001b[0;34m=\u001b[0m \u001b[0;36m164.5\u001b[0m\u001b[0;34m\u001b[0m\u001b[0;34m\u001b[0m\u001b[0m\n\u001b[0;32m----> 4\u001b[0;31m \u001b[0mprint\u001b[0m\u001b[0;34m(\u001b[0m\u001b[0mpewien_tekst\u001b[0m \u001b[0;34m+\u001b[0m \u001b[0;34m' '\u001b[0m \u001b[0;34m+\u001b[0m \u001b[0mwzrost\u001b[0m \u001b[0;34m+\u001b[0m \u001b[0;34m'cm'\u001b[0m\u001b[0;34m)\u001b[0m \u001b[0;31m# ' '.join([pewien_tekst, wiek]) też error\u001b[0m\u001b[0;34m\u001b[0m\u001b[0;34m\u001b[0m\u001b[0m\n\u001b[0m",
            "\u001b[0;31mTypeError\u001b[0m: must be str, not float"
          ]
        }
      ]
    },
    {
      "cell_type": "code",
      "metadata": {
        "id": "GYblGHHDVXCD",
        "outputId": "b5c6a72a-0335-468f-eb7c-7cc70149a1af"
      },
      "source": [
        "# formatowanie stringów za pomocą metody format, inne przykłady https://pyformat.info\n",
        "print(\n",
        "    '{} {:.2f} cm'.format(pewien_tekst, wzrost),\n",
        "    f'{pewien_tekst} {wzrost} cm',\n",
        "sep='\\n')\n",
        "\n",
        "person = {'first': 'Jean-Luc', 'last': 'Picard'}\n",
        "print(\n",
        "    'Imię: {p[first]}, nazwisko: {p[last]}'.format(p=person)\n",
        ")"
      ],
      "execution_count": null,
      "outputs": [
        {
          "output_type": "stream",
          "text": [
            "Ania mierzy 164.50 cm\n",
            "Ania mierzy 164.5 cm\n",
            "Imię: Jean-Luc, nazwisko: Picard\n"
          ],
          "name": "stdout"
        }
      ]
    },
    {
      "cell_type": "code",
      "metadata": {
        "id": "oDm_LxD9VXCE",
        "outputId": "9ad2445a-c65b-412c-afe5-77e10667a557"
      },
      "source": [
        "# wypisywanie tekstu z zachowaniem odstępów\n",
        "print(''' \n",
        "Imię:              {imie},\n",
        "Nazwisko:          {nazw},\n",
        "PESEL:             {pesel}\n",
        "'''.format(\n",
        "    nazw='Jan', \n",
        "    imie='Kowalski', \n",
        "    pesel='1234...'))"
      ],
      "execution_count": null,
      "outputs": [
        {
          "output_type": "stream",
          "text": [
            " \n",
            "Imię:              Kowalski,\n",
            "Nazwisko:          Jan,\n",
            "PESEL:             1234...\n",
            "\n"
          ],
          "name": "stdout"
        }
      ]
    },
    {
      "cell_type": "code",
      "metadata": {
        "id": "s9hxeX0PVXCG",
        "outputId": "d1422b45-f016-4cd4-9aea-c276aa602f1c"
      },
      "source": [
        "# dzielenie tekstu na pdstawie znaku\n",
        "text = 'jan;ma;wrotki'\n",
        "print(text.split(';'))\n",
        "\n",
        "# dzielenie tekstu na podstawie znaków - używamy modułu re\n",
        "import re\n",
        "text2 = 'jan;ma,różowe|wrotki'\n",
        "re.split(',|;', text) # dziel tekst gdy wystąpi , lub | lub ;"
      ],
      "execution_count": null,
      "outputs": [
        {
          "output_type": "stream",
          "text": [
            "['jan', 'ma', 'wrotki']\n"
          ],
          "name": "stdout"
        },
        {
          "output_type": "execute_result",
          "data": {
            "text/plain": [
              "['jan', 'ma', 'wrotki']"
            ]
          },
          "metadata": {
            "tags": []
          },
          "execution_count": 35
        }
      ]
    },
    {
      "cell_type": "markdown",
      "metadata": {
        "id": "3uwWb4wJVXCH"
      },
      "source": [
        "# Flow control"
      ]
    },
    {
      "cell_type": "code",
      "metadata": {
        "id": "-5DercjmVXCH",
        "outputId": "5421bd31-8b51-447c-f981-e355721b4634"
      },
      "source": [
        "a = 1\n",
        "# sprawdzanie przedziału normalnie\n",
        "if -1 <= a and (a <= 1):\n",
        "    print('A is in range')\n",
        "\n",
        "# jaka jest wersja 'pythonowa' ?"
      ],
      "execution_count": null,
      "outputs": [
        {
          "output_type": "stream",
          "text": [
            "A is in range\n"
          ],
          "name": "stdout"
        }
      ]
    },
    {
      "cell_type": "code",
      "metadata": {
        "id": "S9moWGQtVXCI",
        "outputId": "f22dbd47-9392-41c9-a8df-0a37c58d94bb"
      },
      "source": [
        "# wersja pythonowa\n",
        "if -1 <= a <= 1:\n",
        "    print('A is in range')"
      ],
      "execution_count": null,
      "outputs": [
        {
          "output_type": "stream",
          "text": [
            "A is in range\n"
          ],
          "name": "stdout"
        }
      ]
    },
    {
      "cell_type": "markdown",
      "metadata": {
        "id": "D8OCkkLEVXCI"
      },
      "source": [
        "`for ... else` - else w przypadku pętli for jest wykonywany, gdy przejdziemy całą pętlę bez wywołania break."
      ]
    },
    {
      "cell_type": "code",
      "metadata": {
        "id": "8qzifm7QVXCJ",
        "outputId": "4b1bbc50-ff53-4f12-d689-dbc5b34cfbb2"
      },
      "source": [
        "def print_first_girl(students):\n",
        "    for student in students:\n",
        "        if student.endswith('a'):\n",
        "            print(student)\n",
        "            break\n",
        "    else:\n",
        "        # zostanie wywołane tylko, gdy nie był wywołany break\n",
        "        print('W zbiorze nie było studentki')\n",
        "\n",
        "students = ['Jan', 'Andrzej', 'Joanna', 'Ewelina']\n",
        "print_first_girl(students)\n",
        "students = ['Jan', 'Andrzej']\n",
        "print_first_girl(students)"
      ],
      "execution_count": null,
      "outputs": [
        {
          "output_type": "stream",
          "text": [
            "Joanna\n",
            "W zbiorze nie było studentki\n"
          ],
          "name": "stdout"
        }
      ]
    },
    {
      "cell_type": "markdown",
      "metadata": {
        "id": "f-6lj56DVXCJ"
      },
      "source": [
        "`enumerate` - przechodzenie po liście/słowniku/tupli... wraz z indeksem."
      ]
    },
    {
      "cell_type": "code",
      "metadata": {
        "id": "QFpQExwUVXCK",
        "outputId": "f2404605-884d-45dd-89d2-ba7fd6099db7"
      },
      "source": [
        "students = ['Jan', 'Andrzej', 'Joanna', 'Ewelina']\n",
        "for i, student in enumerate(students):\n",
        "    print(f'{i}: {student}')"
      ],
      "execution_count": null,
      "outputs": [
        {
          "output_type": "stream",
          "text": [
            "0: Jan\n",
            "1: Andrzej\n",
            "2: Joanna\n",
            "3: Ewelina\n"
          ],
          "name": "stdout"
        }
      ]
    },
    {
      "cell_type": "markdown",
      "metadata": {
        "id": "iR022Pc0VXCK"
      },
      "source": [
        "## Comprehension\n",
        "\n",
        "Jednolinijkowa metoda pozwalająca tworzyć listy, słowniki, czy zbiory."
      ]
    },
    {
      "cell_type": "markdown",
      "metadata": {
        "id": "ofOZCN7XVXCL"
      },
      "source": [
        "*Zadanie*\n",
        "\n",
        "Jak wyciągnąć imiona studentek o numerach indeksu powyżej 120000?"
      ]
    },
    {
      "cell_type": "code",
      "metadata": {
        "id": "nrJHYTI3VXCL"
      },
      "source": [
        "students = [\n",
        "    ('Jan', 111000), ('Anna', 111001),\n",
        "    ('Andrzej', 111005), ('Maria', 120000),\n",
        "    ('Janusz', 120001), ('Marta', 120002)\n",
        "]"
      ],
      "execution_count": null,
      "outputs": []
    },
    {
      "cell_type": "code",
      "metadata": {
        "id": "cjh09Tk6VXCL",
        "colab": {
          "base_uri": "https://localhost:8080/"
        },
        "outputId": "ed5d637f-2461-40ed-b5bc-784d81f49bab"
      },
      "source": [
        "# TODO\n",
        "students_girls_over_120k = [student for student, index in students if student.endswith('a') and index > 120000]\n",
        "students_girls_over_120k"
      ],
      "execution_count": null,
      "outputs": [
        {
          "output_type": "execute_result",
          "data": {
            "text/plain": [
              "['Marta']"
            ]
          },
          "metadata": {
            "tags": []
          },
          "execution_count": 16
        }
      ]
    },
    {
      "cell_type": "markdown",
      "metadata": {
        "id": "JUbFsNAVVXCM"
      },
      "source": [
        "*Zadanie*\n",
        "\n",
        "Stwórz dwuwymiarową tablicę o rozmiarze 2x10 (2 wiersze, 10 kolumn) wypełnioną zerami używając tylko jednej linijki kodu.\n",
        "\n",
        "*Podpowiedź*: Jednowymiarową tablicę można stworzyć jak poniżej"
      ]
    },
    {
      "cell_type": "code",
      "metadata": {
        "id": "yrLYhO8DVXCM",
        "colab": {
          "base_uri": "https://localhost:8080/"
        },
        "outputId": "f2a81521-78c2-429a-ae5d-47e2d3e9cfd0"
      },
      "source": [
        "columns = 10\n",
        "rows = 2\n",
        "\n",
        "zeros = [0]*columns\n",
        "zeros"
      ],
      "execution_count": null,
      "outputs": [
        {
          "output_type": "execute_result",
          "data": {
            "text/plain": [
              "[0, 0, 0, 0, 0, 0, 0, 0, 0, 0]"
            ]
          },
          "metadata": {
            "tags": []
          },
          "execution_count": 11
        }
      ]
    },
    {
      "cell_type": "code",
      "metadata": {
        "id": "TB7IQVT3VXCN",
        "colab": {
          "base_uri": "https://localhost:8080/"
        },
        "outputId": "76bd8d51-4e04-463a-8260-959b69189eaf"
      },
      "source": [
        "# TODO\n",
        "zeros2d = [[0]*columns]*rows\n",
        "zeros2d"
      ],
      "execution_count": null,
      "outputs": [
        {
          "output_type": "execute_result",
          "data": {
            "text/plain": [
              "[[0, 0, 0, 0, 0, 0, 0, 0, 0, 0], [0, 0, 0, 0, 0, 0, 0, 0, 0, 0]]"
            ]
          },
          "metadata": {
            "tags": []
          },
          "execution_count": 20
        }
      ]
    },
    {
      "cell_type": "code",
      "metadata": {
        "id": "fZ-8bGlTVXCN",
        "outputId": "a9174505-cffa-4fcd-c3cf-74a43bfff9b4"
      },
      "source": [
        "# UWAGA: nie wywołuj poniższych komórek bez poprawnego uzupełnienia powyższych!!!\n",
        "\n",
        "\n",
        "# do drugiej kolumny w pierwszym wierszy wstawiamy wartość 2\n",
        "zeros[0][1] = 2\n",
        "zeros"
      ],
      "execution_count": null,
      "outputs": [
        {
          "output_type": "execute_result",
          "data": {
            "text/plain": [
              "[[0, 2, 0, 0, 0, 0, 0, 0, 0, 0], [0, 2, 0, 0, 0, 0, 0, 0, 0, 0]]"
            ]
          },
          "metadata": {
            "tags": []
          },
          "execution_count": 614
        }
      ]
    },
    {
      "cell_type": "markdown",
      "metadata": {
        "id": "VvWQWcx2VXCO"
      },
      "source": [
        "Nieoczekiwany wynik. Dlaczego?\n",
        "Wykonując linijkę\n",
        "```python\n",
        "    [[0]*columns]*rows\n",
        "```\n",
        "tworzymy wektor z 10 zerami. A następnie kopiujemy referencje do niego (do obiektu, nie tworzymy nowych 0), więc po wstawieniu 2\n",
        "```python\n",
        "    zeros[0][1] = 2\n",
        "```\n",
        "mamy zmianę w dwóch miejscach, bo oba odnoszą się do tego samego miejsca w pamięci. Musimy więc tworzyć nowe obiekty wektorów w pamięci. [Szerszy opis.](https://snakify.org/en/lessons/two_dimensional_lists_arrays/)"
      ]
    },
    {
      "cell_type": "code",
      "metadata": {
        "id": "upn1Q9h8VXCO",
        "outputId": "771fa2d9-9fa5-4fee-9292-3d1d41309c38"
      },
      "source": [
        "# Poprawne rozwiązanie\n",
        "zeros = [[0]*columns for _ in range(rows)]\n",
        "zeros[0][1] = 2\n",
        "zeros"
      ],
      "execution_count": null,
      "outputs": [
        {
          "output_type": "execute_result",
          "data": {
            "text/plain": [
              "[[0, 2, 0, 0, 0, 0, 0, 0, 0, 0], [0, 0, 0, 0, 0, 0, 0, 0, 0, 0]]"
            ]
          },
          "metadata": {
            "tags": []
          },
          "execution_count": 47
        }
      ]
    },
    {
      "cell_type": "markdown",
      "metadata": {
        "id": "bpXGLp67VXCP"
      },
      "source": [
        "## Comprehension\n",
        "dla słowników"
      ]
    },
    {
      "cell_type": "markdown",
      "metadata": {
        "id": "DVvKiIl_VXCP"
      },
      "source": [
        "*Zadanie* Jak przetrasformować poniższą listę, tak aby stworzyć słownik: indeks -> imię studenta, dla studentów z parzystymi indeksami?"
      ]
    },
    {
      "cell_type": "code",
      "metadata": {
        "id": "sdB8x_8hVXCQ"
      },
      "source": [
        "students = [\n",
        "    ('Jan', 111000), ('Anna', 111001),\n",
        "    ('Andrzej', 111005), ('Maria', 120000),\n",
        "    ('Janusz', 120001), ('Marta', 120002),\n",
        "    ('Jan', 120006)\n",
        "]"
      ],
      "execution_count": null,
      "outputs": []
    },
    {
      "cell_type": "code",
      "metadata": {
        "id": "2OrSQ0SEVXCR",
        "colab": {
          "base_uri": "https://localhost:8080/"
        },
        "outputId": "112de90c-ecfc-40d6-97b1-32cc255f4866"
      },
      "source": [
        "# TODO\n",
        "students_dictionary = {\n",
        "    index: student for student, index in students if index % 2 == 0\n",
        "}\n",
        "for index, student in students_dictionary.items():\n",
        "  print(f'{index}:\\t{student}')"
      ],
      "execution_count": null,
      "outputs": [
        {
          "output_type": "stream",
          "text": [
            "111000:\tJan\n",
            "120000:\tMaria\n",
            "120002:\tMarta\n",
            "120006:\tJan\n"
          ],
          "name": "stdout"
        }
      ]
    },
    {
      "cell_type": "markdown",
      "metadata": {
        "id": "LDvBediyVXCR"
      },
      "source": [
        "# Python - poziom zaawansowany\n",
        "\n",
        "* generatory\n",
        "* dekoratory\n",
        "* `*args`, `**kwargs`\n",
        "* elementy funkcyjne pythona"
      ]
    },
    {
      "cell_type": "markdown",
      "metadata": {
        "id": "UBylMi-lVXCS"
      },
      "source": [
        "## Generatory\n",
        "Nazywamy tak funkcje, które zwracają obiekt po którym możemy iterować. Zazwyczaj taką funkcję będziemy wywoływali po słowie kluczowym `in` w pętli `for`.\n",
        "Dzięki generatorom możemy iterować (przechodzić po kolejnych elementach) kolekcji takich jak na przykład lista.\n",
        "Jednkaże, możemy pisać własne generatory jak ten poniżej"
      ]
    },
    {
      "cell_type": "code",
      "metadata": {
        "id": "bt_H8UeQVXCT",
        "outputId": "5a3863e6-352d-46f0-dbef-94600e30fd56"
      },
      "source": [
        "def some_generator():\n",
        "    a, b = 0, 1\n",
        "    while True:\n",
        "        yield a\n",
        "        a, b = b, a + b\n",
        "        \n",
        "gen = some_generator()\n",
        "print(next(gen))\n",
        "print(next(gen))\n",
        "print(next(gen))\n",
        "print(next(gen))\n",
        "print(next(gen))"
      ],
      "execution_count": null,
      "outputs": [
        {
          "output_type": "stream",
          "text": [
            "0\n",
            "1\n",
            "1\n",
            "2\n",
            "3\n"
          ],
          "name": "stdout"
        }
      ]
    },
    {
      "cell_type": "markdown",
      "metadata": {
        "id": "8NkcHNKaVXCT"
      },
      "source": [
        "Ktoś ma pomysł czym są kolejne wyniki funkcji `some_generator`?"
      ]
    },
    {
      "cell_type": "markdown",
      "metadata": {
        "id": "ZoABbLWkVXCU"
      },
      "source": [
        "Ten sam generator troszkę inaczej"
      ]
    },
    {
      "cell_type": "code",
      "metadata": {
        "id": "BKbaYbloVXCU"
      },
      "source": [
        "def some_generator(limit):\n",
        "    a, b = 0, 1\n",
        "    for i in range(limit):\n",
        "        yield i, a\n",
        "        a, b = b, a + b"
      ],
      "execution_count": null,
      "outputs": []
    },
    {
      "cell_type": "code",
      "metadata": {
        "id": "c2iU3gGIVXCU",
        "outputId": "d4eaba40-8d21-4b87-9fd8-dbe4cd2ede88"
      },
      "source": [
        "for i in some_generator(10):\n",
        "    print(i)"
      ],
      "execution_count": null,
      "outputs": [
        {
          "output_type": "stream",
          "text": [
            "(0, 0)\n",
            "(1, 1)\n",
            "(2, 1)\n",
            "(3, 2)\n",
            "(4, 3)\n",
            "(5, 5)\n",
            "(6, 8)\n",
            "(7, 13)\n",
            "(8, 21)\n",
            "(9, 34)\n"
          ],
          "name": "stdout"
        }
      ]
    },
    {
      "cell_type": "markdown",
      "metadata": {
        "id": "3_0T8qGsVXCV"
      },
      "source": [
        "Odpowiedź: Generator generuje tuple, indeks oraz wartość. Wartość należy do ciągu Fibonacciego."
      ]
    },
    {
      "cell_type": "markdown",
      "metadata": {
        "id": "c0VmTqt3VXCW"
      },
      "source": [
        "## `*args`, `**kwargs`\n",
        "\n",
        "Są to po prostu zmienne. Pojawiają się jako parametry funkcji. Zasadniczo nazwy `args` oraz `kwargs` są umowne, to pewna konwencja używana dla czytelności.\n",
        "Gwiazdki oznaczają rozpakowywanie\n",
        "\n",
        "* `*args` oznacza rozpakowanie zmiennej `args`, która jest tablicą:"
      ]
    },
    {
      "cell_type": "code",
      "metadata": {
        "id": "uMlWw2utVXCW",
        "outputId": "9d102899-f258-4a23-ba00-e7ffbba819d8"
      },
      "source": [
        "def fun(*args):\n",
        "    print(args)\n",
        "    \n",
        "params = [1, 2, 3]\n",
        "fun(*params)"
      ],
      "execution_count": null,
      "outputs": [
        {
          "output_type": "stream",
          "text": [
            "(1, 2, 3)\n"
          ],
          "name": "stdout"
        }
      ]
    },
    {
      "cell_type": "markdown",
      "metadata": {
        "id": "sPcmsbDUVXCX"
      },
      "source": [
        "* `**kwargs` oznacza rozpakowanie zmiennej `kwargs`, która jest słownikiem:"
      ]
    },
    {
      "cell_type": "code",
      "metadata": {
        "id": "JGsGjHzKVXCX",
        "outputId": "d458c88b-a7ef-4fd9-df92-45fc1c2e6a28"
      },
      "source": [
        "def fun(**kwargs):\n",
        "    print(kwargs)\n",
        "    \n",
        "params = {'first': 'Jan', 'last': 'Kowalski'}\n",
        "fun(**params)"
      ],
      "execution_count": null,
      "outputs": [
        {
          "output_type": "stream",
          "text": [
            "{'first': 'Jan', 'last': 'Kowalski'}\n"
          ],
          "name": "stdout"
        }
      ]
    },
    {
      "cell_type": "markdown",
      "metadata": {
        "id": "gqMEQcofVXCY"
      },
      "source": [
        "`*args`, `**kwargs` co nam to daje?"
      ]
    },
    {
      "cell_type": "code",
      "metadata": {
        "id": "IZIqPnboVXCY",
        "outputId": "083522e2-4cdf-4424-bb49-6f78a98f4a47"
      },
      "source": [
        "def print_student_names(*students):\n",
        "    for student in students:\n",
        "        print(f'Student ma na imię: {student}')\n",
        "        \n",
        "print_student_names('jan', 'anna', 'andrzej')"
      ],
      "execution_count": null,
      "outputs": [
        {
          "output_type": "stream",
          "text": [
            "Student ma na imię: jan\n",
            "Student ma na imię: anna\n",
            "Student ma na imię: andrzej\n"
          ],
          "name": "stdout"
        }
      ]
    },
    {
      "cell_type": "code",
      "metadata": {
        "id": "BFkCirumVXCZ",
        "outputId": "3acbd83a-0774-4e35-f665-858f8eef6081"
      },
      "source": [
        "# za pomocą **kwargs nie musimy podawać parametrów bezpośrednio tylko przez słownik\n",
        "def display_person(first_name, last_name, **kwargs):\n",
        "    print(f'Imię:\\t\\t{first_name}')\n",
        "    print(f'Nazwisko:\\t{last_name}')\n",
        "    for key, value in kwargs.items():\n",
        "        print(f'{key}:\\t\\t{value}')\n",
        "        \n",
        "params = dict(first_name='Jan', last_name='Kowalski', PESEL=12345678901, wiek=12)\n",
        "display_person(**params)"
      ],
      "execution_count": null,
      "outputs": [
        {
          "output_type": "stream",
          "text": [
            "Imię:\t\tJan\n",
            "Nazwisko:\tKowalski\n",
            "PESEL:\t\t12345678901\n",
            "wiek:\t\t12\n"
          ],
          "name": "stdout"
        }
      ]
    },
    {
      "cell_type": "markdown",
      "metadata": {
        "id": "lXElBuobVXCZ"
      },
      "source": [
        "## Dekoratory\n",
        "\n",
        "To funkcje zwracające funkcje. Ich celem jest wykonywanie pewnego kodu przed i po wywołaniu danej funkcji. Dekorator dodajemy do danej funkcji, dodając `@nazwa_dekoratora` nad definicją danej funkcji, która ma być dekorowana. [Trochę bardziej zaawansowane](http://scottlobdell.me/2015/04/decorators-arguments-python/)."
      ]
    },
    {
      "cell_type": "code",
      "metadata": {
        "id": "7E8PS2w-VXCa",
        "outputId": "f5528991-abd4-46d3-a6ff-3ee8c4ec0b10"
      },
      "source": [
        "def dekorator(funkcja):\n",
        "    def _funkcja_dekorująca():\n",
        "        print('-'*20)\n",
        "        funkcja()\n",
        "        print('+'*20)\n",
        "    return _funkcja_dekorująca\n",
        "\n",
        "@dekorator\n",
        "def wyświetl_coś():\n",
        "    print('Ala ma kota')\n",
        "\n",
        "    \n",
        "wyświetl_coś()\n",
        "wyświetl_coś()"
      ],
      "execution_count": null,
      "outputs": [
        {
          "output_type": "stream",
          "text": [
            "--------------------\n",
            "Ala ma kota\n",
            "++++++++++++++++++++\n",
            "--------------------\n",
            "Ala ma kota\n",
            "++++++++++++++++++++\n"
          ],
          "name": "stdout"
        }
      ]
    },
    {
      "cell_type": "markdown",
      "metadata": {
        "id": "ZL2_o1j5VXCa"
      },
      "source": [
        "Zadanie: Napisz dekorator obliczający czas (i wyświetlający go) wykonywania poniższej funkcji:"
      ]
    },
    {
      "cell_type": "code",
      "metadata": {
        "id": "fXMLGqlZVXCa",
        "colab": {
          "base_uri": "https://localhost:8080/"
        },
        "outputId": "c3462426-5e44-4699-c0ec-6987f80d2013"
      },
      "source": [
        "from time import sleep\n",
        "\n",
        "def do_sth():\n",
        "    print('doing sth...', end='')\n",
        "    sleep(1)\n",
        "    print('done!')\n",
        "    \n",
        "do_sth()"
      ],
      "execution_count": null,
      "outputs": [
        {
          "output_type": "stream",
          "text": [
            "doing sth...done!\n"
          ],
          "name": "stdout"
        }
      ]
    },
    {
      "cell_type": "markdown",
      "metadata": {
        "id": "6V8zphuuVXCb"
      },
      "source": [
        "Twoje rozwiązanie"
      ]
    },
    {
      "cell_type": "code",
      "metadata": {
        "id": "KajOme11VXCb",
        "colab": {
          "base_uri": "https://localhost:8080/"
        },
        "outputId": "caf7c318-2b96-4733-ecb1-b56941f7ea4d"
      },
      "source": [
        "from time import sleep, time\n",
        "\n",
        "def time_counter(func):\n",
        "    def decorator():\n",
        "        x = time()\n",
        "        func()\n",
        "        y = time()\n",
        "        print('wywołanie funkcji {} trwało {:.2} s.'.format(func.__name__, y - x))\n",
        "    return decorator\n",
        "\n",
        "@time_counter\n",
        "def do_sth():\n",
        "    print('doing sth...', end='')\n",
        "    sleep(1)\n",
        "    print('done!')\n",
        "\n",
        "do_sth()"
      ],
      "execution_count": null,
      "outputs": [
        {
          "output_type": "stream",
          "text": [
            "doing sth...done!\n",
            "wywołanie funkcji do_sth trwało 1.0 s.\n"
          ],
          "name": "stdout"
        }
      ]
    },
    {
      "cell_type": "markdown",
      "metadata": {
        "id": "2K8zkFAjVXCc"
      },
      "source": [
        "## Elementy funkcyjne pythona\n",
        "\n",
        "Są dostępne np. w bibliotece [functools](https://docs.python.org/3.7/library/functools.html#module-functools), czy [itertootls](https://docs.python.org/3.7/library/itertools.html#module-itertools).\n",
        "\n",
        "* Jednymi z większych różnic paradygmatu funkcyjnego od paradygmatu proceduralnego, czy obiektowego jest brak wewnętrznego stanu funkcji, który wpływa na wynik danej funkcji. W programowaniu obiektowym mamy na przykład pola prywatne, które mogą wpływać na wyniki metod danego obiektu. W podejściu funkcyjnym działamy na funkcjach, które na podstawie argumentów wejściowych zwracają wyniki, bez wykorzystania zmiennych globalnych, czy innych zmiennych reprezentujących jakiś stan obiektu.\n",
        "\n",
        "* Większość współczesnych języków korzysta z wielu paradygmatów. W pythonie możemy pisać proceduralnie, obiektowo lub funkcyjnie.\n",
        "\n",
        "* Jednymi z zalet programowania funkcyjnego są modularność i łatwość testowania."
      ]
    },
    {
      "cell_type": "markdown",
      "metadata": {
        "id": "CZH9J1ZeVXCc"
      },
      "source": [
        "Moduł `functools` zawiera funkcje wyższego rzędu - takie które biorą jako argumenty inne funkcje lub zwracają funkcje jako wynik działania."
      ]
    },
    {
      "cell_type": "markdown",
      "metadata": {
        "id": "z_8i915yVXCc"
      },
      "source": [
        "Przeładowywanie funkcji"
      ]
    },
    {
      "cell_type": "code",
      "metadata": {
        "id": "AAj6KRjsVXCd",
        "outputId": "94b46d88-d12e-4455-e8ed-0950feb1084a"
      },
      "source": [
        "def sum_(some_list):\n",
        "    return sum(list)\n",
        "\n",
        "def sum_(a, b):\n",
        "    return a+b\n",
        "\n",
        "try:\n",
        "    print(sum_([1, 2, 3, 4]), sum_(1, 2))\n",
        "except Exception as e:\n",
        "    print('error:', e)"
      ],
      "execution_count": null,
      "outputs": [
        {
          "output_type": "stream",
          "text": [
            "error: sum_() missing 1 required positional argument: 'b'\n"
          ],
          "name": "stdout"
        }
      ]
    },
    {
      "cell_type": "code",
      "metadata": {
        "id": "jVNObkogVXCd",
        "outputId": "1fbde9dd-bbdc-4a2d-e3ae-9a5411f09a6f"
      },
      "source": [
        "def sum_(*args):\n",
        "    return sum(*args)\n",
        "\n",
        "try:\n",
        "    print(sum_([1, 2, 3, 4]))\n",
        "    print('-'*10)\n",
        "    print(sum_(1, 2))\n",
        "except Exception as e:\n",
        "    print('error:', e) "
      ],
      "execution_count": null,
      "outputs": [
        {
          "output_type": "stream",
          "text": [
            "10\n",
            "----------\n",
            "error: 'int' object is not iterable\n"
          ],
          "name": "stdout"
        }
      ]
    },
    {
      "cell_type": "code",
      "metadata": {
        "id": "MO__qh4rVXCe",
        "outputId": "1fbd9ec8-cb84-4a6f-9db9-1e2d938461e8"
      },
      "source": [
        "from functools import singledispatch\n",
        "\n",
        "@singledispatch\n",
        "def sum_(arg):\n",
        "    print(f\"Na razie nie obsługujemy typu `{type(arg).__name__}`, wartość:\", arg)\n",
        "    \n",
        "# musimy dodać dekorator `register` do każdej przeładowanej funkcji, wraz z typem, który ma być obsługiwany\n",
        "@sum_.register(int)\n",
        "def _(*args, **kwargs):\n",
        "    print('Suma intów:', sum(args))\n",
        "\n",
        "@sum_.register(list)\n",
        "def _(arg: list):\n",
        "    print('Suma elementów w liście:', sum(arg))\n",
        "\n",
        "sum_([1, 2, 3])\n",
        "sum_(1, 2, 5)\n",
        "sum_('jakiś tekst')"
      ],
      "execution_count": null,
      "outputs": [
        {
          "output_type": "stream",
          "text": [
            "Suma elementów w liście: 6\n",
            "Suma intów: 8\n",
            "Na razie nie obsługujemy typu `str`, wartość: jakiś tekst\n"
          ],
          "name": "stdout"
        }
      ]
    },
    {
      "cell_type": "markdown",
      "metadata": {
        "id": "xuoFj9OVVXCe"
      },
      "source": [
        "Memoizacja - przydatna w rekurencji. Przykład dla ciągu fibonnaciego. Poniżej są wypisane wartości ciągu dla poszczególnych liczb.\n",
        "```\n",
        "(0, 0)\n",
        "(1, 1)\n",
        "(2, 1)\n",
        "(3, 2)\n",
        "...\n",
        "(30, 832040)\n",
        "(31, 1346269)\n",
        "```\n"
      ]
    },
    {
      "cell_type": "code",
      "metadata": {
        "id": "VvIAsSmkVXCf",
        "outputId": "b36eff17-1d55-40a4-88f5-322890e96119"
      },
      "source": [
        "def fib(n):\n",
        "    if n == 0: return 0\n",
        "    if n == 1: return 1\n",
        "    return fib(n-1)+fib(n-2)\n",
        "\n",
        "%timeit -n 1 fib(30)\n",
        "%timeit -n 1 fib(31)"
      ],
      "execution_count": null,
      "outputs": [
        {
          "output_type": "stream",
          "text": [
            "268 ms ± 6.55 ms per loop (mean ± std. dev. of 7 runs, 1 loop each)\n",
            "436 ms ± 11.3 ms per loop (mean ± std. dev. of 7 runs, 1 loop each)\n"
          ],
          "name": "stdout"
        }
      ]
    },
    {
      "cell_type": "markdown",
      "metadata": {
        "id": "xUZPaAmqVXCf"
      },
      "source": [
        "```python\n",
        "def fib(n):\n",
        "    if n == 0: return 0\n",
        "    if n == 1: return 1\n",
        "    return fib(n-1)+fib(n-2)\n",
        "```\n",
        "<img src=\"imgs/fibo.svg\" alt=\"Drawing\" style=\"width: 700px;\"/>\n",
        "<!-- ![fibonacci](imgs/fibo_tree.png) -->"
      ]
    },
    {
      "cell_type": "code",
      "metadata": {
        "id": "k49jTX3kVXCg",
        "outputId": "8ddb8ab1-43ac-4387-c4b0-9131744e7037"
      },
      "source": [
        "from functools import lru_cache\n",
        "\n",
        "@lru_cache(maxsize=50)\n",
        "def fibo_2(n):\n",
        "    if n == 0: return 0\n",
        "    if n == 1: return 1\n",
        "    return fibo_2(n-1)+fibo_2(n-2)\n",
        "\n",
        "%timeit -n 1 fibo_2(30)\n",
        "%timeit -n 1 fibo_2(31)"
      ],
      "execution_count": null,
      "outputs": [
        {
          "output_type": "stream",
          "text": [
            "The slowest run took 126.43 times longer than the fastest. This could mean that an intermediate result is being cached.\n",
            "3.88 µs ± 8.84 µs per loop (mean ± std. dev. of 7 runs, 1 loop each)\n",
            "The slowest run took 16.41 times longer than the fastest. This could mean that an intermediate result is being cached.\n",
            "1.25 µs ± 1.92 µs per loop (mean ± std. dev. of 7 runs, 1 loop each)\n"
          ],
          "name": "stdout"
        }
      ]
    },
    {
      "cell_type": "code",
      "metadata": {
        "id": "ngdGt3QlVXCg",
        "outputId": "0123476f-8b7a-46e4-ca9f-13eb75f7c6b3"
      },
      "source": [
        "from functools import lru_cache\n",
        "\n",
        "def fibo_3(n):\n",
        "    a, b = 0, 1\n",
        "    for i in range(n-1):\n",
        "        a, b = b, a+b\n",
        "    return b\n",
        "\n",
        "assert fibo_3(30) == fibo_2(30)\n",
        "\n",
        "# fibo_2.cache_clear()\n",
        "%timeit -n 1 fibo_2(100)\n",
        "%timeit -n 1 fibo_3(100)\n",
        "%timeit -n 1 fibo_3(30) # wersja iteracyjna\n",
        "%timeit -n 1 fibo_2(30) # wersja rekurencyjna"
      ],
      "execution_count": null,
      "outputs": [
        {
          "output_type": "stream",
          "text": [
            "The slowest run took 7.10 times longer than the fastest. This could mean that an intermediate result is being cached.\n",
            "411 ns ± 403 ns per loop (mean ± std. dev. of 7 runs, 1 loop each)\n",
            "6.16 µs ± 1.07 µs per loop (mean ± std. dev. of 7 runs, 1 loop each)\n",
            "1.83 µs ± 504 ns per loop (mean ± std. dev. of 7 runs, 1 loop each)\n",
            "The slowest run took 8.84 times longer than the fastest. This could mean that an intermediate result is being cached.\n",
            "358 ns ± 409 ns per loop (mean ± std. dev. of 7 runs, 1 loop each)\n"
          ],
          "name": "stdout"
        }
      ]
    },
    {
      "cell_type": "markdown",
      "metadata": {
        "id": "7aUi2tTeVXCh"
      },
      "source": [
        "Currying - częściowe wykonanie funkcji"
      ]
    },
    {
      "cell_type": "code",
      "metadata": {
        "id": "mMfEN1YdVXCh"
      },
      "source": [
        "def exp(base, power):\n",
        "    return base ** power"
      ],
      "execution_count": null,
      "outputs": []
    },
    {
      "cell_type": "code",
      "metadata": {
        "id": "O1JoBJX_VXCh",
        "outputId": "cdfec6d3-9559-44c4-d554-1b8829fb8501"
      },
      "source": [
        "print('normalne wywołanie funkcji', exp(base=3, power=2)) # normalne wywołanie funkcji\n",
        "\n",
        "from functools import partial\n",
        "square_of = partial(exp, power=2) # zapisanie wywołania funkcji tylko z jednym parametrem power=2\n",
        "# square_of jest funkcją przyjmującą jeden parametr = base\n",
        "# square_of podnosi podaną liczbę do potęgi 2\n",
        "print('wywołanie square_of', square_of(3)) "
      ],
      "execution_count": null,
      "outputs": [
        {
          "output_type": "stream",
          "text": [
            "normalne wywołanie funkcji 9\n",
            "wywołanie square_of 9\n"
          ],
          "name": "stdout"
        }
      ]
    },
    {
      "cell_type": "code",
      "metadata": {
        "id": "BOCKmaf2VXCi",
        "outputId": "86a3d0e7-c4d7-4fce-ffcf-677a2f16e8e1"
      },
      "source": [
        "from functools import partial\n",
        "def get_person_description(first_name, last_name, age, city):\n",
        "    return f'{first_name} {last_name}, mieszka w {city}, wiek {age}.'\n",
        "\n",
        "# podobne wykorzystanie funkcji partial jak powyżej    \n",
        "poznan_resident = partial(get_person_description, city = 'Poznan')\n",
        "young_poznan_resident = partial(poznan_resident, age = 20)\n",
        "print(young_poznan_resident('Jan', 'Kowalski'))\n",
        "print(young_poznan_resident('Anna', 'Nowak', age=21))\n",
        "print(poznan_resident('Andrzej', 'Nowak', age=33))"
      ],
      "execution_count": null,
      "outputs": [
        {
          "output_type": "stream",
          "text": [
            "Jan Kowalski, mieszka w Poznan, wiek 20.\n",
            "Anna Nowak, mieszka w Poznan, wiek 21.\n",
            "Andrzej Nowak, mieszka w Poznan, wiek 33.\n"
          ],
          "name": "stdout"
        }
      ]
    },
    {
      "cell_type": "markdown",
      "metadata": {
        "id": "6dCl3RviVXCi"
      },
      "source": [
        "```python\n",
        "map(func, *iterables)\n",
        "```"
      ]
    },
    {
      "cell_type": "code",
      "metadata": {
        "id": "260FjFafVXCj"
      },
      "source": [
        "# Chcemy podnieść każdą liczbę z items do potęgi 2\n",
        "items = [1, 2, 3, 4, 5]\n",
        "squared = []\n",
        "for i in items:\n",
        "    squared.append(i**2)"
      ],
      "execution_count": null,
      "outputs": []
    },
    {
      "cell_type": "code",
      "metadata": {
        "id": "I0PyjyX9VXCj",
        "outputId": "f3d45729-1652-499a-e773-ccd4dc9a3d41"
      },
      "source": [
        "items = [1, 2, 3, 4, 5]\n",
        "def op(x):\n",
        "    return x**2\n",
        "\n",
        "# wskazujemy aby funkcja op działała na każdym elemencie listy items\n",
        "squared = map(op, items)\n",
        "# zamiast op można wpisać lambda x: x**2\n",
        "squared_2 = map(lambda x: x**2, items)\n",
        "list(squared), list(squared_2)"
      ],
      "execution_count": null,
      "outputs": [
        {
          "output_type": "execute_result",
          "data": {
            "text/plain": [
              "([1, 4, 9, 16, 25], [1, 4, 9, 16, 25])"
            ]
          },
          "metadata": {
            "tags": []
          },
          "execution_count": 71
        }
      ]
    },
    {
      "cell_type": "code",
      "metadata": {
        "id": "ttEudgOlVXCk",
        "outputId": "817c0a03-7e0a-4274-d8d4-110cbdfa709b"
      },
      "source": [
        "# def d(z):\n",
        "#     def op():\n",
        "#         z()\n",
        "#     return op\n",
        "\n",
        "d = lambda z: z()\n",
        "op = lambda x: d(x)\n",
        "\n",
        "@d\n",
        "def sth():\n",
        "    print('ok')\n",
        "sth()"
      ],
      "execution_count": null,
      "outputs": [
        {
          "output_type": "stream",
          "text": [
            "ok\n"
          ],
          "name": "stdout"
        }
      ]
    },
    {
      "cell_type": "markdown",
      "metadata": {
        "id": "m5_Ko_u0VXCk"
      },
      "source": [
        "```python\n",
        "filter(func, iterable)\n",
        "```"
      ]
    },
    {
      "cell_type": "code",
      "metadata": {
        "id": "d8V3-P05VXCl",
        "outputId": "49778b13-88a0-4412-b22a-52f7915ddb73"
      },
      "source": [
        "# chcemy odfiltrować tylko wartości parzyste z przedziału -5 do 5\n",
        "number_list = range(-5, 5)\n",
        "even_in_range = []\n",
        "for n in number_list:\n",
        "    if n % 2 == 0:\n",
        "        even_in_range.append(n)\n",
        "even_in_range"
      ],
      "execution_count": null,
      "outputs": [
        {
          "output_type": "execute_result",
          "data": {
            "text/plain": [
              "[-4, -2, 0, 2, 4]"
            ]
          },
          "metadata": {
            "tags": []
          },
          "execution_count": 72
        }
      ]
    },
    {
      "cell_type": "code",
      "metadata": {
        "id": "Mc_hMzWGVXCl",
        "outputId": "1ac858ec-37cf-4241-8c36-ddc5343012f2"
      },
      "source": [
        "# to samo z użyciem funkcji filter\n",
        "number_list = range(-5, 5)\n",
        "def is_even(x):\n",
        "    return x % 2 == 0\n",
        "\n",
        "even_in_range = list(filter(is_even, number_list))\n",
        "op = lambda x: x % 2 == 0\n",
        "even_in_range_2 = list(filter(op, number_list))\n",
        "even_in_range, even_in_range_2"
      ],
      "execution_count": null,
      "outputs": [
        {
          "output_type": "execute_result",
          "data": {
            "text/plain": [
              "([-4, -2, 0, 2, 4], [-4, -2, 0, 2, 4])"
            ]
          },
          "metadata": {
            "tags": []
          },
          "execution_count": 73
        }
      ]
    },
    {
      "cell_type": "markdown",
      "metadata": {
        "id": "WKw8TLMyVXCm"
      },
      "source": [
        "```python\n",
        "reduce(func, iterable[, initial])\n",
        "```"
      ]
    },
    {
      "cell_type": "code",
      "metadata": {
        "id": "bzy4kA96VXCm",
        "outputId": "8a41fd21-61b1-4b35-abb1-804517260a22"
      },
      "source": [
        "# chcemy dodać do siebie liczby z listy elements\n",
        "sum_ = 0\n",
        "elements = list(range(10))\n",
        "for num in elements:\n",
        "    sum_ = sum_ + num\n",
        "sum_"
      ],
      "execution_count": null,
      "outputs": [
        {
          "output_type": "execute_result",
          "data": {
            "text/plain": [
              "45"
            ]
          },
          "metadata": {
            "tags": []
          },
          "execution_count": 77
        }
      ]
    },
    {
      "cell_type": "code",
      "metadata": {
        "id": "WVrl5DBiVXCn",
        "outputId": "cef5c8a8-91b7-41ae-b9c3-c554fa61d550"
      },
      "source": [
        "from functools import reduce\n",
        "\n",
        "# chcemy dodać do siebie liczby z listy elements z użyciem funkcji reduce\n",
        "elements = list(range(10))\n",
        "sum_func = lambda x, y: x+y\n",
        "\n",
        "sum_of_elements = reduce(sum_func, elements)\n",
        "\n",
        "print(' + '.join(map(str, elements)), '=', sum_of_elements)"
      ],
      "execution_count": null,
      "outputs": [
        {
          "output_type": "stream",
          "text": [
            "0 + 1 + 2 + 3 + 4 + 5 + 6 + 7 + 8 + 9 = 45\n"
          ],
          "name": "stdout"
        }
      ]
    },
    {
      "cell_type": "code",
      "metadata": {
        "id": "EO2sSWZIVXCo",
        "outputId": "ab28f51e-3c01-4dee-ad66-1854d3a78ec7"
      },
      "source": [
        "product = reduce((lambda x, y: x * y), [1, 2, 3, 4])\n",
        "sum_of_elements = reduce((lambda x, y: x + y), [1, 2, 3, 4])\n",
        "product, sum_of_elements"
      ],
      "execution_count": null,
      "outputs": [
        {
          "output_type": "execute_result",
          "data": {
            "text/plain": [
              "(24, 10)"
            ]
          },
          "metadata": {
            "tags": []
          },
          "execution_count": 52
        }
      ]
    },
    {
      "cell_type": "code",
      "metadata": {
        "id": "ddksA8vCVXCp",
        "outputId": "8209c44a-4c97-4b0c-9ff3-428ad616e752"
      },
      "source": [
        "# skąd wiadomo jaka jest początkowa wartość?\n",
        "try:\n",
        "    product = reduce((lambda x, y: x * y), [])\n",
        "except Exception as e:\n",
        "    print('error', e)"
      ],
      "execution_count": null,
      "outputs": [
        {
          "output_type": "stream",
          "text": [
            "error reduce() of empty sequence with no initial value\n"
          ],
          "name": "stdout"
        }
      ]
    },
    {
      "cell_type": "code",
      "metadata": {
        "id": "Qc3bU5GaVXCp",
        "outputId": "bf1b7b1f-36d8-407a-8713-1312783131fc"
      },
      "source": [
        "# możemy wykorzystać 3-ci parametr\n",
        "product = reduce((lambda x, y: x * y), [], None)\n",
        "print(product)\n",
        "\n",
        "product = reduce((lambda x, y: x + y), [1], 100)\n",
        "print(product)\n",
        "\n",
        "product = reduce((lambda x, y: x * y), [1, 2, 3], 5)\n",
        "print(product)"
      ],
      "execution_count": null,
      "outputs": [
        {
          "output_type": "stream",
          "text": [
            "None\n",
            "101\n",
            "30\n"
          ],
          "name": "stdout"
        }
      ]
    },
    {
      "cell_type": "markdown",
      "metadata": {
        "id": "ColWSKZGVXCq"
      },
      "source": [
        "# Zadania domowe"
      ]
    },
    {
      "cell_type": "markdown",
      "metadata": {
        "id": "UXj0exQgVXCr"
      },
      "source": [
        "## *Zadanie domowe 1.1*\n",
        "Napisz dekorator o nazwie `count_time` obliczający czas wykonania funkcji przyjmującej parametry:\n",
        "\n",
        "```python\n",
        "@count_time\n",
        "def print_students_names(students):\n",
        "    for student in students:\n",
        "        print(f'Imię studenta: {student}')\n",
        "\n",
        "@count_time\n",
        "def print_students_info(students, students_indices):\n",
        "    for student, index in zip(students, students_indices):\n",
        "        print(f'Imię studenta: {student}, indeks {index}')\n",
        "        \n",
        "students = ['Jan', 'Maria']\n",
        "indices = [111001, 111002]\n",
        "print_students_names(students)\n",
        "print_students_info(students, indices)\n",
        "```"
      ]
    },
    {
      "cell_type": "code",
      "metadata": {
        "colab": {
          "base_uri": "https://localhost:8080/"
        },
        "id": "bUZa7d6FVXCs",
        "outputId": "2d01fb4d-0bc0-4a78-ff65-0c5b1957586d"
      },
      "source": [
        "from time import time\n",
        "\n",
        "def count_time(func):\n",
        "    def dec_func(arr, *arr2):\n",
        "        print('....................')\n",
        "        x = time()\n",
        "        func(arr, *arr2)\n",
        "        y = time()\n",
        "        print(f'Time elapsed: {round(y - x, 5)} sec')\n",
        "        print('--------------------')\n",
        "    return dec_func\n",
        "\n",
        "@count_time\n",
        "def print_students_names(students):\n",
        "    for student in students:\n",
        "        print(f'Imię studenta: {student}')\n",
        "\n",
        "@count_time\n",
        "def print_students_info(students, students_indices):\n",
        "    for student, index in zip(students, students_indices):\n",
        "        print(f'Imię studenta: {student}, indeks {index}')\n",
        "\n",
        "students = ['Jan', 'Maria']\n",
        "indices = [111001, 111002]\n",
        "print_students_names(students)\n",
        "print_students_info(students, indices)"
      ],
      "execution_count": 5,
      "outputs": [
        {
          "output_type": "stream",
          "text": [
            "....................\n",
            "Imię studenta: Jan\n",
            "Imię studenta: Maria\n",
            "Time elapsed: 0.00059 sec\n",
            "--------------------\n",
            "....................\n",
            "Imię studenta: Jan, indeks 111001\n",
            "Imię studenta: Maria, indeks 111002\n",
            "Time elapsed: 0.00048 sec\n",
            "--------------------\n"
          ],
          "name": "stdout"
        }
      ]
    },
    {
      "cell_type": "markdown",
      "metadata": {
        "id": "zsBbYpCtVXCr"
      },
      "source": [
        "oczekiwany rezultat\n",
        "```\n",
        "....................\n",
        "Imię studenta: Jan\n",
        "Imię studenta: Maria\n",
        "Time elapsed: 0.00017 sec.\n",
        "--------------------\n",
        "....................\n",
        "Imię studenta: Jan, indeks 111001\n",
        "Imię studenta: Maria, indeks 111002\n",
        "Time elapsed: 0.00002 sec.\n",
        "--------------------\n",
        "```"
      ]
    },
    {
      "cell_type": "markdown",
      "metadata": {
        "id": "9uZ9U-3gVXCt"
      },
      "source": [
        "## *Zadanie domowe 1.2*\n",
        "Oblicz średni błąd kwadratowy ([MSE](https://en.wikipedia.org/wiki/Mean_squared_error)) dla danych z pliku `data.csv`. W pliku znajduje się 300 tys. linii z danymi w 2 kolumnach odseparowanych średnikiem. <b>Wykorzystaj szablon kodu znajduący się na kolejnym slajdzie</b>.\n",
        "\n",
        "Dane są typu float, pierwsza kolumna zawiera predykcje, druga kolumna oczekiwane wyniki. Użyj poniższego wzorca. Sprawdź różnice w czasie wykonywania obu funkcji za pomocą wcześniej napisanego dekoratora. Funkcje mają zwracać wartość `MSE`, sprawdź, czy po dodaniu dekoratora jest ona zwracana.\n",
        "\n",
        "Upewnij się, czy wyniki funkcji `calc_mean_square_error_python` oraz `calc_mean_square_error_pandas` są takie same (załózmy dokładność do 10-tego miejsca po przecinku)."
      ]
    },
    {
      "cell_type": "code",
      "metadata": {
        "colab": {
          "base_uri": "https://localhost:8080/"
        },
        "id": "_QQ6wR8eXJnL",
        "outputId": "cc917702-342d-4208-9d73-2a53bcc5f25e"
      },
      "source": [
        "from google.colab import drive\n",
        "drive.mount('/content/drive')"
      ],
      "execution_count": 2,
      "outputs": [
        {
          "output_type": "stream",
          "text": [
            "Mounted at /content/drive\n"
          ],
          "name": "stdout"
        }
      ]
    },
    {
      "cell_type": "code",
      "metadata": {
        "id": "LMKI9kRPVXCt",
        "colab": {
          "base_uri": "https://localhost:8080/"
        },
        "outputId": "cc6f3e58-1b66-4744-cfaa-1415293f35fc"
      },
      "source": [
        "import pandas as pd\n",
        "import numpy as np\n",
        "import csv\n",
        "from functools import reduce\n",
        "\n",
        "@count_time\n",
        "def calc_mean_square_error_python(filename):\n",
        "\n",
        "    first = []\n",
        "    second = []\n",
        "\n",
        "    with open('/content/drive/MyDrive/Wstęp do Big Data w ekonomii/' + filename, 'r') as f:\n",
        "        # TODO używamy context managera (słowo kluczowe with do poprawnego zamknięcia pliku w przypadku błędu)\n",
        "        # należy pamiętać o rzutowaniu na danych oraz ich rozbiciu\n",
        "        data = csv.reader(f, delimiter=';')\n",
        "        for row in data:         \n",
        "\t\t        first.append(float(row[0]))\n",
        "\t\t        second.append(float(row[1]))\n",
        "\n",
        "    # postaraj się użyć funkcji map oraz reduce, by unikać rozległych pętli for\n",
        "    differences = map((lambda x, y: x-y), first, second)\n",
        "    squares = map(lambda x: x**2, differences)\n",
        "    mean = reduce((lambda x, y: x+y), squares) / len(first)\n",
        "    \n",
        "    return mean\n",
        "\n",
        "@count_time\n",
        "def calc_mean_square_error_pandas(filename):\n",
        "    # TODO dodaj wczytywanie danych za pomocą np. read_csv z biblioteki pandas\n",
        "    data = pd.read_csv('/content/drive/MyDrive/Wstęp do Big Data w ekonomii/' + filename, sep=';', header = None)\n",
        "\n",
        "    # oraz wykorzystaj funkcje z numpy takie jak np.mean, np.sqaure do obliczenia MSE\n",
        "    differences = pd.Series(data[0] - data[1])\n",
        "    mean = np.mean(np.square(differences))\n",
        "\n",
        "    return mean\n",
        " \n",
        "result_pandas = calc_mean_square_error_pandas('data.csv')\n",
        "print('Wynik za pomocą pandas/numpy', result_pandas)\n",
        "\n",
        "result_python = calc_mean_square_error_python('data.csv')\n",
        "print('Wynik za pomocą pythona', result_python)\n",
        "\n",
        "#assert np.isclose(result_pandas, result_python, 1e-10)"
      ],
      "execution_count": 7,
      "outputs": [
        {
          "output_type": "stream",
          "text": [
            "....................\n",
            "Time elapsed: 0.14934 sec\n",
            "--------------------\n",
            "Wynik za pomocą pandas/numpy None\n",
            "....................\n",
            "Time elapsed: 0.73987 sec\n",
            "--------------------\n",
            "Wynik za pomocą pythona None\n"
          ],
          "name": "stdout"
        }
      ]
    },
    {
      "cell_type": "markdown",
      "metadata": {
        "id": "Nn5-16nGVXCu"
      },
      "source": [
        "oczekiwany rezultat (mniej więcej):\n",
        "```\n",
        "....................\n",
        "Time elapsed: 0.10839 sec.\n",
        "--------------------\n",
        "Wynik za pomocą pandas/numpy -0.0007971461071350931\n",
        "....................\n",
        "Time elapsed: 1.04017 sec.\n",
        "--------------------\n",
        "Wynik za pomocą pythona -0.0007971461071350973\n",
        "\n",
        "```"
      ]
    }
  ]
}