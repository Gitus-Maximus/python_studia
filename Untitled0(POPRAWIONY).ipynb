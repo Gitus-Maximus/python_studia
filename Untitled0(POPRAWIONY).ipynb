{
  "nbformat": 4,
  "nbformat_minor": 0,
  "metadata": {
    "colab": {
      "name": "Untitled0.ipynb",
      "provenance": []
    },
    "kernelspec": {
      "name": "python3",
      "display_name": "Python 3"
    },
    "language_info": {
      "name": "python"
    }
  },
  "cells": [
    {
      "cell_type": "code",
      "metadata": {
        "colab": {
          "base_uri": "https://localhost:8080/"
        },
        "id": "1zRTtHvYY2xx",
        "outputId": "7c6d262f-799a-4021-f3b0-99d959586701"
      },
      "source": [
        "from time import time\n",
        "\n",
        "def count_time(func):\n",
        "    def dec_func(arr, *arr2):\n",
        "        print('....................')\n",
        "        x = time()\n",
        "        result = func(arr, *arr2)\n",
        "        y = time()\n",
        "        print(f'Time elapsed: {round(y - x, 10)} sec')\n",
        "        print('--------------------')\n",
        "        return result\n",
        "    return dec_func\n",
        "\n",
        "@count_time\n",
        "def print_students_names(students):\n",
        "    for student in students:\n",
        "        print(f'Imię studenta: {student}')\n",
        "\n",
        "@count_time\n",
        "def print_students_info(students, students_indices):\n",
        "    for student, index in zip(students, students_indices):\n",
        "        print(f'Imię studenta: {student}, indeks {index}')\n",
        "\n",
        "students = ['Jan', 'Maria']\n",
        "indices = [111001, 111002]\n",
        "print_students_names(students)\n",
        "print_students_info(students, indices)"
      ],
      "execution_count": 25,
      "outputs": [
        {
          "output_type": "stream",
          "text": [
            "....................\n",
            "Imię studenta: Jan\n",
            "Imię studenta: Maria\n",
            "Time elapsed: 0.0004818439 sec\n",
            "--------------------\n",
            "....................\n",
            "Imię studenta: Jan, indeks 111001\n",
            "Imię studenta: Maria, indeks 111002\n",
            "Time elapsed: 0.0005028248 sec\n",
            "--------------------\n"
          ],
          "name": "stdout"
        }
      ]
    },
    {
      "cell_type": "code",
      "metadata": {
        "colab": {
          "base_uri": "https://localhost:8080/"
        },
        "id": "_APFIE6VY6BV",
        "outputId": "50030663-1870-4a2d-b5b5-6b00641c65c7"
      },
      "source": [
        "from google.colab import drive\n",
        "drive.mount('/content/drive')"
      ],
      "execution_count": 2,
      "outputs": [
        {
          "output_type": "stream",
          "text": [
            "Mounted at /content/drive\n"
          ],
          "name": "stdout"
        }
      ]
    },
    {
      "cell_type": "code",
      "metadata": {
        "colab": {
          "base_uri": "https://localhost:8080/"
        },
        "id": "6oGCUxzZZDFJ",
        "outputId": "46ab2647-b9a0-40f7-8fb7-6d60ee12cd6d"
      },
      "source": [
        "import pandas as pd\n",
        "import numpy as np\n",
        "import csv\n",
        "from functools import reduce\n",
        "\n",
        "@count_time\n",
        "def calc_mean_square_error_python(filename):\n",
        "\n",
        "    first = []\n",
        "    second = []\n",
        "\n",
        "    with open('/content/drive/MyDrive/Wstęp do Big Data w ekonomii/' + filename, 'r') as f:\n",
        "        data = csv.reader(f, delimiter=';')\n",
        "        for row in data:         \n",
        "\t\t        first.append(float(row[0]))\n",
        "\t\t        second.append(float(row[1]))\n",
        "\n",
        "    differences = map((lambda x, y: x-y), first, second)\n",
        "    squares = map(lambda x: x**2, differences)\n",
        "    mean = reduce((lambda x, y: x+y), squares) / len(first)\n",
        "    \n",
        "    return mean\n",
        "\n",
        "@count_time\n",
        "def calc_mean_square_error_pandas(filename):\n",
        "    data = pd.read_csv('/content/drive/MyDrive/Wstęp do Big Data w ekonomii/' + filename, sep=';', header = None)\n",
        "\n",
        "    differences = pd.Series(data[0] - data[1])\n",
        "    mean = np.mean(np.square(differences))\n",
        "\n",
        "    return mean\n",
        "\n",
        "result_pandas = calc_mean_square_error_pandas('data.csv')\n",
        "print('Wynik za pomocą pandas/numpy', result_pandas)\n",
        "\n",
        "result_python = calc_mean_square_error_python('data.csv')\n",
        "print('Wynik za pomocą pythona', result_python)\n",
        "\n",
        "assert np.isclose(result_pandas, result_python, 1e-10)"
      ],
      "execution_count": 26,
      "outputs": [
        {
          "output_type": "stream",
          "text": [
            "....................\n",
            "Time elapsed: 0.1681287289 sec\n",
            "--------------------\n",
            "Wynik za pomocą pandas/numpy 0.0008323889286460284\n",
            "....................\n",
            "Time elapsed: 0.7189264297 sec\n",
            "--------------------\n",
            "Wynik za pomocą pythona 0.0008323889286460293\n"
          ],
          "name": "stdout"
        }
      ]
    }
  ]
}